{
 "cells": [
  {
   "cell_type": "markdown",
   "metadata": {},
   "source": [
    "#### 2019.04.10 / Anthony Chan\n",
    "\n",
    "#### 作業1：\n",
    "\n",
    "在Kaggle上，我想嘗試選用這一組資料，[Japan Hostel Dataset, Data for 300+ Hostels in Japan by HostelWorld](https://www.kaggle.com/koki25ando/hostel-world-dataset)\n",
    "\n",
    "這份整理資料是 [Koki Ando](https://www.kaggle.com/koki25ando) 透過 [HostelWorld.com](https://www.hostelworld.com/) 網站爬蟲提供的，資料是以 CSV 格式檔案。\n",
    "Hostel在近幾年越來越普遍，主要針對年輕或自由行、背包的旅遊者，提供旅宿服務，與一般飯店 Hotel相比，它較為屬於規模小的旅者業者。\n",
    "\n",
    "嘗試透過這組資料讓我們可以做更多的探討，了解過去旅客對體驗反饋, 一些對Hostel的評語，以他們的偏愛選擇等實際情況。 \n",
    "\n",
    "\n",
    "#### 作業2：\n",
    "\n",
    "想像你經營一個自由載客車隊，你希望能透過數據分析以提升業績，請你思考並描述你如何規劃整體的分析/解決方案：\n",
    "\n",
    "1. 核心問題為何 (tips：如何定義 「提升業績 & 你的假設」)\n",
    "  - 先去了解實際顧客服務流程，自由載客車隊是如何提供服務，每個重要的環節都要有個明確了解。\n",
    "  - 在服務流程找出重要的關鍵人員，與他們訪談取得對服務流程的回饋，哪些會是問題，哪些可以做更多或更好改善調整。\n",
    "  - 有實際使用者的反饋資訊嗎？使用者體驗哪些好哪些不好？有解決服務中需要解決的問題嗎？\n",
    "  - 現時審核服務人員的指標是什麼，服務水準是如何。\n",
    "  - 討論出，要提升業績有哪幾個方向，哪些應該優先去處理，優先順序列出哪些項目(改善清單)。\n",
    "  \n",
    "  \n",
    "- 資料從何而來 (tips：哪些資料可能會對你想問的問題產生影響 & 資料如何蒐集)\n",
    "  - 針對改善清單，分析項目所需要的行動方案，與服務流程對應，找出該環節服務審核指標。\n",
    "  - 使用該組的資料及指標做分析，驗證改善清單上的假設是否一致，沒有很大的出入，若有需要的話，就要重新討論調整改善方案。\n",
    "  - 收集現況業績數據，作為基準點，執行改善方案後再次比較之用，去確認改善方案，是否真正如期能夠提升業績結果。\n",
    "  \n",
    "  \n",
    "- 蒐集而來的資料型態為何\n",
    "  - 一般情況下，使用者使用服務會透過平台下單，平台系統或各載具，都應該可以取的當下的資訊，回到分析中心。\n",
    "  - 各環節的服務單位單元，不論是人員服務或系統服務，都應該留下該環節重點資訊，回到分析中心。\n",
    "  - 蒐集資料型態，最好使用簡單的格式，如 CSV,TXT,JSON. \n",
    "  - 這樣儘可能單一地方做資訊整合，數據分析之用，也回饋重點資訊給相關人員，讓他們了解掌握實際情況。\n",
    "  \n",
    "  \n",
    "- 你要回答的問題，其如何評估 (tips：你的假設如何驗證)\n",
    "  - 驗證部份，應該可以針對該執行改善方案，找到可以數據化的資料，在過程中去觀察變化，了解有改善的情況，數據該呈現的趨勢。\n",
    "  - 在規劃前去驗證假設，執行改善過程中去觀察變化，驗證方向是否如期，執行完成後，驗證結果和量化，確認改善多少。\n",
    "  - 若不理想，回頭跟之前小組，重新檢討了解假設、變化、結果，再次制定下一組改善行動方案。\n",
    "  - 這樣的改善方式，應該是迭代一個接一個去改善提升，最終能夠推動影響提升業績。\n"
   ]
  },
  {
   "cell_type": "markdown",
   "metadata": {},
   "source": [
    "## 練習時間\n",
    "#### 請寫一個函式用來計算 Mean Square Error\n",
    "$ MSE = \\frac{1}{n}\\sum_{i=1}^{n}{(Y_i - \\hat{Y}_i)^2} $\n",
    "\n",
    "### Hint: [如何取平方](https://googoodesign.gitbooks.io/-ezpython/unit-1.html)"
   ]
  },
  {
   "cell_type": "code",
   "execution_count": null,
   "metadata": {},
   "outputs": [],
   "source": [
    "import numpy as np\n",
    "import matplotlib.pyplot as plt"
   ]
  },
  {
   "cell_type": "code",
   "execution_count": null,
   "metadata": {},
   "outputs": [],
   "source": [
    "w = 3\n",
    "b = 0.5\n",
    "\n",
    "x_lin = np.linspace(0, 100, 101)\n",
    "\n",
    "y = (x_lin + np.random.randn(101) * 5) * w + b\n",
    "\n",
    "plt.plot(x_lin, y, 'b.', label = 'data points')\n",
    "plt.title(\"Assume we have data points\")\n",
    "plt.legend(loc = 2)\n",
    "plt.show()"
   ]
  },
  {
   "cell_type": "code",
   "execution_count": null,
   "metadata": {},
   "outputs": [],
   "source": [
    "y_hat = x_lin * w + b\n",
    "plt.plot(x_lin, y, 'b.', label = 'data')\n",
    "plt.plot(x_lin, y_hat, 'r-', label = 'prediction')\n",
    "plt.title(\"Assume we have data points (And the prediction)\")\n",
    "plt.legend(loc = 2)\n",
    "plt.show()"
   ]
  },
  {
   "cell_type": "code",
   "execution_count": null,
   "metadata": {},
   "outputs": [],
   "source": [
    "def mean_squared_error(y, yp):\n",
    "    \"\"\"\n",
    "    計算 MSE\n",
    "    Args:\n",
    "        - y: 實際值\n",
    "        - yp: 預測值\n",
    "    Return:\n",
    "        - mse: MSE\n",
    "    \"\"\"\n",
    "    mse = MSE = np.mean((y - yp)**2)\n",
    "    return mse\n",
    "\n",
    "MSE = mean_squared_error(y, y_hat)\n",
    "print(f'The Mean squared error is {MSE:.3f}')\n",
    "\n",
    "# more ref. https://ithelp.ithome.com.tw/articles/10186905"
   ]
  },
  {
   "cell_type": "code",
   "execution_count": null,
   "metadata": {},
   "outputs": [],
   "source": [
    "def mean_absolute_error(y, yp):\n",
    "    \"\"\"\n",
    "    計算 MAE\n",
    "    Args:\n",
    "        - y: 實際值\n",
    "        - yp: 預測值\n",
    "    Return:\n",
    "        - mae: MAE\n",
    "    \"\"\"\n",
    "    mae = MAE = sum(abs(y - yp)) / len(y)\n",
    "    return mae\n",
    "\n",
    "MAE = mean_absolute_error(y, y_hat)\n",
    "print(\"The Mean absolute error is %.3f\" % (MAE))"
   ]
  },
  {
   "cell_type": "code",
   "execution_count": null,
   "metadata": {},
   "outputs": [],
   "source": [
    "# 執行 Function, 確認有沒有正常執行\n",
    "MSE = mean_squared_error(y, y_hat)\n",
    "MAE = mean_absolute_error(y, y_hat)\n",
    "print(\"The Mean squared error is %.3f\" % (MSE))\n",
    "print(\"The Mean absolute error is %.3f\" % (MAE))"
   ]
  }
 ],
 "metadata": {
  "anaconda-cloud": {},
  "kernelspec": {
   "display_name": "Python 3",
   "language": "python",
   "name": "python3"
  },
  "language_info": {
   "codemirror_mode": {
    "name": "ipython",
    "version": 3
   },
   "file_extension": ".py",
   "mimetype": "text/x-python",
   "name": "python",
   "nbconvert_exporter": "python",
   "pygments_lexer": "ipython3",
   "version": "3.6.5"
  }
 },
 "nbformat": 4,
 "nbformat_minor": 1
}
